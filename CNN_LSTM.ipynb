{
  "cells": [
    {
      "cell_type": "code",
      "execution_count": 2,
      "metadata": {
        "id": "gpbiEVURxCcH"
      },
      "outputs": [],
      "source": [
        "import pandas as pd\n",
        "import matplotlib as mpl\n",
        "import matplotlib.pyplot as plt\n",
        "from sklearn.model_selection import train_test_split\n",
        "from keras.preprocessing.sequence import TimeseriesGenerator\n",
        "from keras.layers import LSTM, LeakyReLU, Dropout, Input, Dense, Conv1D\n",
        "from keras.models import Model\n",
        "from sklearn.preprocessing import MinMaxScaler, StandardScaler\n",
        "import tensorflow as tf\n",
        "import numpy as np"
      ]
    },
    {
      "cell_type": "code",
      "execution_count": 9,
      "metadata": {
        "id": "kvMrV44gxRMv"
      },
      "outputs": [],
      "source": [
        "df = pd.read_csv('rutland_df2.csv')"
      ]
    },
    {
      "cell_type": "code",
      "execution_count": 10,
      "metadata": {
        "colab": {
          "base_uri": "https://localhost:8080/"
        },
        "id": "5yZlKI9lxf1p",
        "outputId": "1f1b74f8-fe21-4bb5-ab95-b9b7637a6152"
      },
      "outputs": [
        {
          "output_type": "stream",
          "name": "stderr",
          "text": [
            "/usr/local/lib/python3.7/dist-packages/ipykernel_launcher.py:8: SettingWithCopyWarning: \n",
            "A value is trying to be set on a copy of a slice from a DataFrame\n",
            "\n",
            "See the caveats in the documentation: https://pandas.pydata.org/pandas-docs/stable/user_guide/indexing.html#returning-a-view-versus-a-copy\n",
            "  \n"
          ]
        },
        {
          "output_type": "stream",
          "name": "stdout",
          "text": [
            "datetimes converted\n"
          ]
        }
      ],
      "source": [
        "for date in range(len(df['datetime'])):\n",
        "        datetime =  df['datetime'][date]\n",
        "        year = str(datetime[:4])\n",
        "        month = str(datetime[5:7])\n",
        "        day = str(datetime[8:10])\n",
        "        hour = str(datetime[11:13])\n",
        "        final_datetime = year + month + day + hour\n",
        "        df['datetime'][date] = final_datetime\n",
        "df['datetime'] = pd.to_datetime(df['datetime'], format='%Y%m%d%H')\n",
        "print('datetimes converted')"
      ]
    },
    {
      "cell_type": "code",
      "source": [
        "df = df.drop(['Unnamed: 0'], axis=1)\n",
        "    #df = df.drop(['0'], axis=1)\n",
        "\n",
        "# sets index to datetime\n",
        "df = df.reset_index(drop=True)\n",
        "df = df.set_index(['datetime'])\n",
        "\n",
        "    # sets input to features\n",
        "df_input = df[['lmp', 'loadMw','genMw', 'temp', 'wspd', 'visibility', 'precip', 'humidity', 'lat', 'lon', 'snow', 'snowdepth', 'dew', 'pressure']]\n",
        "\n",
        "\n",
        "    #nan_rows = [index for index, row in pressure_df.iterrows() if row.isnull().any()]\n",
        "    #null_array = pd.isnull(pressure_df).any().nonzero()[0]\n",
        "    #print(null_array)\n",
        "df_input['pressure'] = df_input['pressure'].fillna(df_input['pressure'].rolling(window=8, center=True, closed='both', min_periods=1).mean())\n",
        "    #df_input['pressure'] = df_input['pressure'].fillna(df_input['pressure'].median())\n",
        "df_input['snow'] = df_input['snow'].fillna(df_input['snow'].rolling(window=48, center=True, closed='both', min_periods=1).mean())\n",
        "df_input['snowdepth'] = df_input['snowdepth'].fillna(df_input['snowdepth'].rolling(window=48, center=True, closed='both', min_periods=1).mean())"
      ],
      "metadata": {
        "colab": {
          "base_uri": "https://localhost:8080/"
        },
        "id": "9we1G0KTdFJf",
        "outputId": "bb76c311-a383-4c52-b074-3a681aa9a65d"
      },
      "execution_count": 11,
      "outputs": [
        {
          "output_type": "stream",
          "name": "stderr",
          "text": [
            "/usr/local/lib/python3.7/dist-packages/ipykernel_launcher.py:15: SettingWithCopyWarning: \n",
            "A value is trying to be set on a copy of a slice from a DataFrame.\n",
            "Try using .loc[row_indexer,col_indexer] = value instead\n",
            "\n",
            "See the caveats in the documentation: https://pandas.pydata.org/pandas-docs/stable/user_guide/indexing.html#returning-a-view-versus-a-copy\n",
            "  from ipykernel import kernelapp as app\n",
            "/usr/local/lib/python3.7/dist-packages/ipykernel_launcher.py:17: SettingWithCopyWarning: \n",
            "A value is trying to be set on a copy of a slice from a DataFrame.\n",
            "Try using .loc[row_indexer,col_indexer] = value instead\n",
            "\n",
            "See the caveats in the documentation: https://pandas.pydata.org/pandas-docs/stable/user_guide/indexing.html#returning-a-view-versus-a-copy\n",
            "/usr/local/lib/python3.7/dist-packages/ipykernel_launcher.py:18: SettingWithCopyWarning: \n",
            "A value is trying to be set on a copy of a slice from a DataFrame.\n",
            "Try using .loc[row_indexer,col_indexer] = value instead\n",
            "\n",
            "See the caveats in the documentation: https://pandas.pydata.org/pandas-docs/stable/user_guide/indexing.html#returning-a-view-versus-a-copy\n"
          ]
        }
      ]
    },
    {
      "cell_type": "code",
      "source": [
        "df_target = df_input[['lmp']]\n",
        "df_feat = df_input[['loadMw','genMw', 'temp', 'wspd', 'visibility', 'precip', 'humidity', 'lat', 'lon', 'dew', 'pressure', 'snow', 'snowdepth']]\n",
        "scaler = MinMaxScaler()\n",
        "scaler = scaler.fit(df_feat)\n",
        "\n",
        "    # transforms into numpy array for model\n",
        "featMat = scaler.transform(df_feat)\n",
        "    \n",
        "scaler = MinMaxScaler()\n",
        "scaler = scaler.fit(df_target)\n",
        "\n",
        "    # transforms into numpy array for model\n",
        "targetMat = scaler.transform(df_target)\n",
        "    #print(data_normalized)\n",
        "    \n",
        "    # create y or target array\n",
        "    #featMat = data_normalized\n",
        "    #targetMat = data_normalized[:, 0]  #[:, :1]\n",
        "x_train, y_train = [], []\n",
        "\n",
        "for i in range(48, len(featMat) - 24):\n",
        "  \n",
        "  x_train.append(featMat[i-48:i])\n",
        "  y_train.append(targetMat[i+24])\n",
        "    \n",
        "x_train, y_train = np.array([x_train]), np.array([y_train])\n",
        "print(x_train.shape, y_train.shape)   \n",
        "    #print(x_train[0][0][1][1])\n",
        "x_train, y_train = np.reshape(x_train, (56784, 48, 13)), np.reshape(y_train, (56784))\n",
        "print(x_train.shape, y_train.shape)   \n",
        "x_train, y_train = x_train[:int(len(x_train) * 0.65)], y_train[:int(len(x_train) * 0.65)]\n",
        "x_test, y_test = x_train[int(len(x_train) * 0.65):], y_train[int(len(x_train) * 0.65):]\n",
        "print(x_train.shape, y_train.shape)\n",
        "print(x_test.shape, y_test.shape)"
      ],
      "metadata": {
        "colab": {
          "base_uri": "https://localhost:8080/"
        },
        "id": "QPqeVgSzdWd_",
        "outputId": "54dc47dd-6ea0-409e-fa28-229cd451d40c"
      },
      "execution_count": 12,
      "outputs": [
        {
          "output_type": "stream",
          "name": "stdout",
          "text": [
            "(1, 56784, 48, 13) (1, 56784, 1)\n",
            "(56784, 48, 13) (56784,)\n",
            "(36909, 48, 13) (36909,)\n",
            "(12919, 48, 13) (12919,)\n"
          ]
        }
      ]
    },
    {
      "cell_type": "code",
      "source": [
        "inputs = Input(shape=(48, 13))\n",
        "  \n",
        "    #extracts features with convolutional layers\n",
        "conv1 = Conv1D(256, kernel_size=10, activation='ReLU', strides=1)(inputs)\n",
        "convDrop = Dropout(0.2)(conv1)\n",
        "\n",
        "conv2 = Conv1D(128, kernel_size=9, activation='ReLU', strides=1)(convDrop)\n",
        "convDrop = Dropout(0.25)(conv2)\n",
        "\n",
        "\n",
        "    #lstm layers for timeseries forecasting\n",
        "Lstm = LSTM(128, activation='tanh', return_sequences=True)(convDrop)\n",
        "\n",
        "Lstm = LSTM(64, activation='tanh')(Lstm)\n",
        "lstmDrop = Dropout(0.3)(Lstm)\n",
        "\n",
        "outputs = Dense(1, activation='linear')(lstmDrop)\n",
        "model = Model(inputs, outputs)\n",
        "\n",
        "print(model.summary())"
      ],
      "metadata": {
        "colab": {
          "base_uri": "https://localhost:8080/"
        },
        "id": "2z6j1ZGCk5Rq",
        "outputId": "fd97f142-57fa-4ea2-d605-33bb972329cc"
      },
      "execution_count": 13,
      "outputs": [
        {
          "output_type": "stream",
          "name": "stdout",
          "text": [
            "Model: \"model\"\n",
            "_________________________________________________________________\n",
            " Layer (type)                Output Shape              Param #   \n",
            "=================================================================\n",
            " input_1 (InputLayer)        [(None, 48, 13)]          0         \n",
            "                                                                 \n",
            " conv1d (Conv1D)             (None, 39, 256)           33536     \n",
            "                                                                 \n",
            " dropout (Dropout)           (None, 39, 256)           0         \n",
            "                                                                 \n",
            " conv1d_1 (Conv1D)           (None, 31, 128)           295040    \n",
            "                                                                 \n",
            " dropout_1 (Dropout)         (None, 31, 128)           0         \n",
            "                                                                 \n",
            " lstm (LSTM)                 (None, 31, 128)           131584    \n",
            "                                                                 \n",
            " lstm_1 (LSTM)               (None, 64)                49408     \n",
            "                                                                 \n",
            " dropout_2 (Dropout)         (None, 64)                0         \n",
            "                                                                 \n",
            " dense (Dense)               (None, 1)                 65        \n",
            "                                                                 \n",
            "=================================================================\n",
            "Total params: 509,633\n",
            "Trainable params: 509,633\n",
            "Non-trainable params: 0\n",
            "_________________________________________________________________\n",
            "None\n"
          ]
        }
      ]
    },
    {
      "cell_type": "code",
      "source": [
        "model.compile(loss=tf.losses.MeanSquaredError(),\n",
        "                optimizer=tf.optimizers.Adam(learning_rate=0.00001),\n",
        "                metrics=[tf.metrics.MeanAbsoluteError()])\n",
        "\n",
        "history = model.fit(x=x_train,y=y_train,batch_size=50, validation_data=(x_test,y_test),validation_batch_size=50, epochs=20, shuffle=True)\n",
        "    "
      ],
      "metadata": {
        "colab": {
          "base_uri": "https://localhost:8080/"
        },
        "id": "JihzIhWopCvG",
        "outputId": "912bf923-5e1f-4d6c-fe15-c23230ff9511"
      },
      "execution_count": 14,
      "outputs": [
        {
          "output_type": "stream",
          "name": "stdout",
          "text": [
            "Epoch 1/20\n",
            "739/739 [==============================] - 151s 195ms/step - loss: 0.0044 - mean_absolute_error: 0.0455 - val_loss: 0.0026 - val_mean_absolute_error: 0.0321\n",
            "Epoch 2/20\n",
            "739/739 [==============================] - 142s 192ms/step - loss: 0.0031 - mean_absolute_error: 0.0381 - val_loss: 0.0024 - val_mean_absolute_error: 0.0300\n",
            "Epoch 3/20\n",
            "739/739 [==============================] - 143s 194ms/step - loss: 0.0029 - mean_absolute_error: 0.0365 - val_loss: 0.0024 - val_mean_absolute_error: 0.0297\n",
            "Epoch 4/20\n",
            "739/739 [==============================] - 142s 193ms/step - loss: 0.0028 - mean_absolute_error: 0.0358 - val_loss: 0.0023 - val_mean_absolute_error: 0.0292\n",
            "Epoch 5/20\n",
            "739/739 [==============================] - 144s 194ms/step - loss: 0.0027 - mean_absolute_error: 0.0351 - val_loss: 0.0023 - val_mean_absolute_error: 0.0290\n",
            "Epoch 6/20\n",
            "739/739 [==============================] - 143s 194ms/step - loss: 0.0027 - mean_absolute_error: 0.0346 - val_loss: 0.0022 - val_mean_absolute_error: 0.0293\n",
            "Epoch 7/20\n",
            "739/739 [==============================] - 143s 194ms/step - loss: 0.0026 - mean_absolute_error: 0.0341 - val_loss: 0.0023 - val_mean_absolute_error: 0.0289\n",
            "Epoch 8/20\n",
            "739/739 [==============================] - 143s 194ms/step - loss: 0.0025 - mean_absolute_error: 0.0337 - val_loss: 0.0023 - val_mean_absolute_error: 0.0299\n",
            "Epoch 9/20\n",
            "739/739 [==============================] - 142s 192ms/step - loss: 0.0025 - mean_absolute_error: 0.0333 - val_loss: 0.0023 - val_mean_absolute_error: 0.0298\n",
            "Epoch 10/20\n",
            "739/739 [==============================] - 144s 194ms/step - loss: 0.0024 - mean_absolute_error: 0.0331 - val_loss: 0.0022 - val_mean_absolute_error: 0.0290\n",
            "Epoch 11/20\n",
            "739/739 [==============================] - 142s 192ms/step - loss: 0.0024 - mean_absolute_error: 0.0327 - val_loss: 0.0020 - val_mean_absolute_error: 0.0281\n",
            "Epoch 12/20\n",
            "739/739 [==============================] - 143s 194ms/step - loss: 0.0023 - mean_absolute_error: 0.0324 - val_loss: 0.0022 - val_mean_absolute_error: 0.0301\n",
            "Epoch 13/20\n",
            "739/739 [==============================] - 143s 193ms/step - loss: 0.0023 - mean_absolute_error: 0.0322 - val_loss: 0.0019 - val_mean_absolute_error: 0.0278\n",
            "Epoch 14/20\n",
            "739/739 [==============================] - 142s 193ms/step - loss: 0.0022 - mean_absolute_error: 0.0318 - val_loss: 0.0019 - val_mean_absolute_error: 0.0279\n",
            "Epoch 15/20\n",
            "739/739 [==============================] - 143s 194ms/step - loss: 0.0022 - mean_absolute_error: 0.0315 - val_loss: 0.0019 - val_mean_absolute_error: 0.0273\n",
            "Epoch 16/20\n",
            "739/739 [==============================] - 143s 194ms/step - loss: 0.0021 - mean_absolute_error: 0.0313 - val_loss: 0.0021 - val_mean_absolute_error: 0.0297\n",
            "Epoch 17/20\n",
            "739/739 [==============================] - 143s 193ms/step - loss: 0.0021 - mean_absolute_error: 0.0310 - val_loss: 0.0020 - val_mean_absolute_error: 0.0290\n",
            "Epoch 18/20\n",
            "739/739 [==============================] - 144s 194ms/step - loss: 0.0020 - mean_absolute_error: 0.0308 - val_loss: 0.0019 - val_mean_absolute_error: 0.0273\n",
            "Epoch 19/20\n",
            "739/739 [==============================] - 143s 193ms/step - loss: 0.0020 - mean_absolute_error: 0.0305 - val_loss: 0.0019 - val_mean_absolute_error: 0.0286\n",
            "Epoch 20/20\n",
            "739/739 [==============================] - 144s 195ms/step - loss: 0.0019 - mean_absolute_error: 0.0301 - val_loss: 0.0018 - val_mean_absolute_error: 0.0262\n"
          ]
        }
      ]
    },
    {
      "cell_type": "code",
      "source": [
        "prediction = model.predict(x_test)"
      ],
      "metadata": {
        "id": "cjH75xDYq-kH"
      },
      "execution_count": 22,
      "outputs": []
    },
    {
      "cell_type": "code",
      "source": [
        "actual = y_test\n",
        "actual = np.reshape(actual, (len(actual), 1))\n",
        "prediction = np.reshape(prediction, (1, len(prediction)))\n",
        "print(len(actual), len(prediction))\n",
        "prediction, actual = scaler.inverse_transform(prediction), scaler.inverse_transform(actual)\n",
        "prediction = prediction.flatten()\n",
        "actual = actual.flatten()\n",
        "results = pd.DataFrame(data={'prediction': prediction, 'actual': actual})\n",
        "print(results.head(48))\n",
        "\n",
        "plt.plot(results['prediction'][:100])\n",
        "plt.plot(results['actual'][:100])\n",
        "plt.legend(['predictions, actual'], loc='upper left')\n",
        "plt.ylabel('lmp (MWH$)')\n",
        "plt.xlabel('batch')\n",
        "plt.show()"
      ],
      "metadata": {
        "colab": {
          "base_uri": "https://localhost:8080/",
          "height": 1000
        },
        "id": "Ko1cc0-qrJzK",
        "outputId": "f3320a71-8481-46d6-bd5c-4ca302252533"
      },
      "execution_count": 23,
      "outputs": [
        {
          "output_type": "stream",
          "name": "stdout",
          "text": [
            "12919 1\n",
            "    prediction  actual\n",
            "0    23.676998   27.13\n",
            "1    24.898426   27.02\n",
            "2    25.972216   29.10\n",
            "3    26.948612   31.73\n",
            "4    27.222862   31.47\n",
            "5    27.191484   34.39\n",
            "6    26.549768   33.99\n",
            "7    25.444157   27.74\n",
            "8    23.994993   21.98\n",
            "9    22.638807   21.96\n",
            "10   21.704388   17.48\n",
            "11   21.039627   17.56\n",
            "12   20.687498   17.10\n",
            "13   20.769386   13.96\n",
            "14   21.296928   17.08\n",
            "15   22.280752   18.52\n",
            "16   23.491447   22.79\n",
            "17   24.560369   26.25\n",
            "18   25.403555   19.60\n",
            "19   25.937641   22.96\n",
            "20   26.039448   25.12\n",
            "21   26.005066   25.16\n",
            "22   26.053591   27.26\n",
            "23   26.343132   29.74\n",
            "24   26.944002   30.91\n",
            "25   27.817514   37.09\n",
            "26   28.755249   42.25\n",
            "27   29.307369   41.36\n",
            "28   29.199791   38.19\n",
            "29   28.518263   40.02\n",
            "30   27.263285   37.75\n",
            "31   25.518028   28.97\n",
            "32   23.550694   24.24\n",
            "33   21.481878   24.93\n",
            "34   19.485374   18.40\n",
            "35   17.655832   16.96\n",
            "36   16.292412   11.96\n",
            "37   15.600884   11.26\n",
            "38   15.687436   11.54\n",
            "39   16.435495   18.38\n",
            "40   17.680887   23.92\n",
            "41   19.133097   26.42\n",
            "42   20.571369   26.45\n",
            "43   21.747475   30.30\n",
            "44   22.740171   36.85\n",
            "45   23.586773   37.18\n",
            "46   24.721834   38.76\n",
            "47   26.088697   39.38\n"
          ]
        },
        {
          "output_type": "display_data",
          "data": {
            "text/plain": [
              "<Figure size 432x288 with 1 Axes>"
            ],
            "image/png": "[encoded data removed]"
          },
          "metadata": {
            "needs_background": "light"
          }
        }
      ]
    },
    {
      "cell_type": "markdown",
      "metadata": {
        "id": "PukN1zS0xEH3"
      },
      "source": [
        "# New Section"
      ]
    }
  ],
  "metadata": {
    "colab": {
      "name": "Untitled1.ipynb",
      "provenance": [],
      "collapsed_sections": [],
      "toc_visible": true
    },
    "kernelspec": {
      "display_name": "Python 3",
      "name": "python3"
    },
    "language_info": {
      "name": "python"
    }
  },
  "nbformat": 4,
  "nbformat_minor": 0
}